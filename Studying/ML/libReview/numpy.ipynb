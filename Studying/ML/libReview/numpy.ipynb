{
 "cells": [
  {
   "cell_type": "code",
   "execution_count": 47,
   "metadata": {},
   "outputs": [],
   "source": [
    "import numpy as np\n",
    "np.random.seed(seed=11)"
   ]
  },
  {
   "cell_type": "code",
   "execution_count": 48,
   "metadata": {},
   "outputs": [
    {
     "name": "stdout",
     "output_type": "stream",
     "text": [
      "6\n",
      "0\n",
      "()\n",
      "1\n",
      "int32\n",
      "\n",
      "6\n",
      "0\n",
      "()\n",
      "1\n",
      "int32\n",
      "\n",
      "6\n",
      "0\n",
      "()\n",
      "1\n",
      "int32\n",
      "6\n",
      "0\n",
      "()\n",
      "1\n",
      "int32\n"
     ]
    }
   ],
   "source": [
    "arr = np.array(6)\n",
    "print(arr)\n",
    "print(arr.ndim)\n",
    "print(arr.shape)\n",
    "print(arr.size)\n",
    "print(arr.dtype)\n",
    "print()\n",
    "\n",
    "arrOne = np.array([6, 2])\n",
    "print(arr)\n",
    "print(arr.ndim)\n",
    "print(arr.shape)\n",
    "print(arr.size)\n",
    "print(arr.dtype)\n",
    "print()\n",
    "\n",
    "arrTwo = np.array([[6, 2], [5, 1]])\n",
    "print(arr)\n",
    "print(arr.ndim)\n",
    "print(arr.shape)\n",
    "print(arr.size)\n",
    "print(arr.dtype)\n",
    "\n",
    "arrThree = np.array([[6, 2], [5, 1], [4, 0]])\n",
    "print(arr)\n",
    "print(arr.ndim)\n",
    "print(arr.shape)\n",
    "print(arr.size)\n",
    "print(arr.dtype)"
   ]
  },
  {
   "cell_type": "code",
   "execution_count": 49,
   "metadata": {},
   "outputs": [
    {
     "name": "stdout",
     "output_type": "stream",
     "text": [
      "[[0. 0. 0.]\n",
      " [0. 0. 0.]]\n",
      "[[1. 1. 1.]\n",
      " [1. 1. 1.]]\n",
      "[[0.18026969 0.01947524 0.46321853]\n",
      " [0.72493393 0.4202036  0.4854271 ]]\n",
      "[[1. 0. 0. 0.]\n",
      " [0. 1. 0. 0.]\n",
      " [0. 0. 1. 0.]\n",
      " [0. 0. 0. 1.]]\n"
     ]
    }
   ],
   "source": [
    "print(np.zeros((2,3)))\n",
    "print(np.ones((2,3)))\n",
    "print(np.random.random((2,3)))\n",
    "print(np.eye(4)) # n x n"
   ]
  },
  {
   "cell_type": "code",
   "execution_count": 50,
   "metadata": {},
   "outputs": [
    {
     "name": "stdout",
     "output_type": "stream",
     "text": [
      "[6 2]\n",
      "[2 1 0]\n",
      "[6 2]\n"
     ]
    }
   ],
   "source": [
    "print(arrTwo[0])\n",
    "print(arrThree[:, 1]) #col 1\n",
    "print(arrThree[0, :]) # row 0\n"
   ]
  },
  {
   "cell_type": "code",
   "execution_count": 52,
   "metadata": {},
   "outputs": [
    {
     "name": "stdout",
     "output_type": "stream",
     "text": [
      "14\n",
      "[[46 14]\n",
      " [35 11]]\n",
      "[[[6 2]]\n",
      "\n",
      " [[5 1]]]\n"
     ]
    }
   ],
   "source": [
    "print(np.sum(arrTwo))\n",
    "print(arrTwo.dot(arrTwo))\n",
    "print(np.expand_dims(arrTwo, axis=1))"
   ]
  }
 ],
 "metadata": {
  "kernelspec": {
   "display_name": "base",
   "language": "python",
   "name": "python3"
  },
  "language_info": {
   "codemirror_mode": {
    "name": "ipython",
    "version": 3
   },
   "file_extension": ".py",
   "mimetype": "text/x-python",
   "name": "python",
   "nbconvert_exporter": "python",
   "pygments_lexer": "ipython3",
   "version": "3.12.3"
  }
 },
 "nbformat": 4,
 "nbformat_minor": 2
}
