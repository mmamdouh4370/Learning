{
 "cells": [
  {
   "cell_type": "code",
   "execution_count": 1,
   "metadata": {},
   "outputs": [
    {
     "data": {
      "text/plain": [
       "<torch._C.Generator at 0x1b6397e16f0>"
      ]
     },
     "execution_count": 1,
     "metadata": {},
     "output_type": "execute_result"
    }
   ],
   "source": [
    "import torch\n",
    "import numpy as np\n",
    "np.random.seed(seed=11)\n",
    "torch.manual_seed(11)"
   ]
  },
  {
   "cell_type": "code",
   "execution_count": 2,
   "metadata": {},
   "outputs": [
    {
     "name": "stdout",
     "output_type": "stream",
     "text": [
      "True\n"
     ]
    }
   ],
   "source": [
    "print (torch.cuda.is_available())"
   ]
  },
  {
   "cell_type": "code",
   "execution_count": 3,
   "metadata": {},
   "outputs": [
    {
     "name": "stdout",
     "output_type": "stream",
     "text": [
      "torch.FloatTensor\n",
      "torch.Size([2, 3])\n",
      "<built-in method type of Tensor object at 0x000001B61C58DC70>\n",
      "tensor([[ 0.7376,  1.9459, -0.6995],\n",
      "        [-1.3023, -0.5133, -0.2696]])\n",
      "\n",
      "torch.FloatTensor\n",
      "torch.LongTensor\n"
     ]
    }
   ],
   "source": [
    "# Tensors\n",
    "tTorch = torch.randn(2, 3)\n",
    "print(tTorch.type())\n",
    "print(tTorch.shape)\n",
    "print(tTorch.type)\n",
    "print(tTorch)\n",
    "print()\n",
    "\n",
    "tTorch = torch.zeros(2, 3)\n",
    "tTorch = torch.ones(2, 3)\n",
    "\n",
    "lToTTorch = torch.Tensor([[1, 2, 3], [4, 5, 6]])\n",
    "\n",
    "npToTorch = torch.Tensor(np.random.rand(2, 3))\n",
    "\n",
    "chngTypeTensor = torch.Tensor(2, 3)\n",
    "print(chngTypeTensor.type())\n",
    "chngTypeTensor = chngTypeTensor.long()\n",
    "print(chngTypeTensor.type())"
   ]
  },
  {
   "cell_type": "code",
   "execution_count": 5,
   "metadata": {},
   "outputs": [
    {
     "name": "stdout",
     "output_type": "stream",
     "text": [
      "tensor([[-0.9691, -2.1354, -1.0431],\n",
      "        [-1.7073,  1.3896,  0.1728]])\n",
      "tensor([[-0.9835, -1.0937,  0.1318],\n",
      "        [ 0.1943, -0.3390,  1.6594]])\n",
      "tensor([[-1.9526, -3.2291, -0.9113],\n",
      "        [-1.5131,  1.0506,  1.8322]])\n",
      "\n",
      "tensor([[-0.2411, -0.8700],\n",
      "        [-0.0385,  0.4584],\n",
      "        [-1.4693,  0.6935]])\n",
      "tensor([[ 1.8486, -0.8592],\n",
      "        [ 0.1042,  2.2423]])\n",
      "\n",
      "tensor([[-0.9691, -1.7073],\n",
      "        [-2.1354,  1.3896],\n",
      "        [-1.0431,  0.1728]])\n",
      "\n",
      "tensor([-0.9691, -2.1354, -1.0431, -1.7073,  1.3896,  0.1728])\n",
      "\n",
      "tensor([-2.6765, -0.7459, -0.8703])\n",
      "tensor([-4.1476, -0.1450])\n",
      "\n",
      "tensor([[-0.9691, -2.1354, -1.0431]])\n",
      "\n",
      "tensor([[-0.9691, -2.1354, -1.0431],\n",
      "        [-1.7073,  1.3896,  0.1728],\n",
      "        [-0.9835, -1.0937,  0.1318],\n",
      "        [ 0.1943, -0.3390,  1.6594]])\n"
     ]
    }
   ],
   "source": [
    "# Tensor operations\n",
    "\n",
    "# Addition\n",
    "a = torch.randn(2, 3)\n",
    "b = torch.randn(2, 3)\n",
    "c = a + b\n",
    "print(a)\n",
    "print(b)\n",
    "print(c)\n",
    "print()\n",
    "\n",
    "# Dot product\n",
    "d = torch.randn (3, 2)\n",
    "print(d)\n",
    "print(torch.mm(a, d))\n",
    "print()\n",
    "\n",
    "# Transpose\n",
    "print(torch.t(a))\n",
    "print()\n",
    "\n",
    "# Reshape\n",
    "print(a.view(6))\n",
    "print()\n",
    "\n",
    "# Sum per col then row\n",
    "print(torch.sum(a, dim=0))\n",
    "print(torch.sum(a, dim=1))\n",
    "print()\n",
    "\n",
    "# First row\n",
    "print(a[:1])\n",
    "print()\n",
    "\n",
    "# Concat\n",
    "print(torch.cat([a, b], dim=0))\n",
    "\n",
    "# BMM, squeeze/unsqueeze"
   ]
  },
  {
   "cell_type": "code",
   "execution_count": 6,
   "metadata": {},
   "outputs": [
    {
     "ename": "SyntaxError",
     "evalue": "incomplete input (2709595319.py, line 10)",
     "output_type": "error",
     "traceback": [
      "\u001b[1;36m  Cell \u001b[1;32mIn[6], line 10\u001b[1;36m\u001b[0m\n\u001b[1;33m    def forward(self, x):\u001b[0m\n\u001b[1;37m                         ^\u001b[0m\n\u001b[1;31mSyntaxError\u001b[0m\u001b[1;31m:\u001b[0m incomplete input\n"
     ]
    }
   ],
   "source": [
    "# Neural net\n",
    "import torch.nn as nn\n",
    "\n",
    "# At basic, forward no backward func needed\n",
    "class Network(nn.module):\n",
    "    def __init__(self):\n",
    "        super(Network, self).__init__()\n",
    "        # Set layers, basic cnn ex 6 output for 5x5\n",
    "        self.conv1 = nn.conv2D(1, 6, 5)\n",
    "        self.conv2 = nn.conv2D(6, 16, 5)\n",
    "        self.fc1 = nn.Linear(16 * 5 * 5, 120)\n",
    "        self.fc2 = nn.Linear(120, 84)\n",
    "        self.fc3 = nn.Linear(84, 10)\n",
    "        \n",
    "        \n",
    "    def forward(self, x):\n",
    "        x = F.max_pool2d(F.relu(self.conv1(x)), (2, 2))\n",
    "        x = F.max_pool2d(F.relu(self.conv2(x)), 2)\n",
    "        x = x.view(-1, self.num_flat_features(x))\n",
    "        x = F.relu(self.fc1(x))\n",
    "        x = F.relu(self.fc2(x))\n",
    "        x = self.fc3(x)\n",
    "        return x\n",
    "        \n",
    "    def num_flat_features(self, x):\n",
    "        size = x.size()[1:] \n",
    "        num_features = 1\n",
    "        for s in size:\n",
    "            num_features *= s\n",
    "        return num_features\n",
    "        "
   ]
  },
  {
   "cell_type": "code",
   "execution_count": null,
   "metadata": {},
   "outputs": [],
   "source": [
    "# Loading data through torchvision\n",
    "\n",
    "import torchvision\n",
    "import torchvision.transforms as transforms\n",
    "\n",
    "transform = transforms.Compose([transforms.ToTensor(), transforms.Normalize((0.5,0.5,0.5), (0.5,0.5,0.5))])\n",
    "\n",
    "trainset = torchvision.datasets.CIFAR10(root='../data', train=True, download=True, transform=transform)\n",
    "trainloader = torch.utils.data.DataLoader(trainset, batch_size=4, shuffle=True, num_workers=2)\n",
    "\n",
    "testset = torchvision.datasets.CIFAR10(root='./data', train=False, download=True, transform=transform)\n",
    "testloader = torch.utils.data.DataLoader(testset, batch_size=4, shuffle=False, num_workers=2)"
   ]
  }
 ],
 "metadata": {
  "kernelspec": {
   "display_name": "base",
   "language": "python",
   "name": "python3"
  },
  "language_info": {
   "codemirror_mode": {
    "name": "ipython",
    "version": 3
   },
   "file_extension": ".py",
   "mimetype": "text/x-python",
   "name": "python",
   "nbconvert_exporter": "python",
   "pygments_lexer": "ipython3",
   "version": "3.12.3"
  }
 },
 "nbformat": 4,
 "nbformat_minor": 2
}
